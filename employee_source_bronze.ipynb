{
 "cells": [
  {
   "cell_type": "code",
   "execution_count": 0,
   "metadata": {
    "application/vnd.databricks.v1+cell": {
     "cellMetadata": {
      "byteLimit": 2048000,
      "rowLimit": 10000
     },
     "inputWidgets": {},
     "nuid": "dac1fb81-966d-43c7-ba26-5de731dd8158",
     "showTitle": false,
     "tableResultSettingsMap": {},
     "title": ""
    }
   },
   "outputs": [],
   "source": [
    "%run ./source_bronze_utils/"
   ]
  },
  {
   "cell_type": "code",
   "execution_count": 0,
   "metadata": {
    "application/vnd.databricks.v1+cell": {
     "cellMetadata": {
      "byteLimit": 2048000,
      "rowLimit": 10000
     },
     "inputWidgets": {},
     "nuid": "7c05e129-6722-4171-bcea-3cc8d956a516",
     "showTitle": false,
     "tableResultSettingsMap": {},
     "title": ""
    }
   },
   "outputs": [],
   "source": [
    "df_country = spark.read.option(\"header\",True).csv(\"/FileStore/tables/Country_Q1-1.csv\")\n",
    "df_department   = spark.read.option(\"header\", True).csv(\"/FileStore/tables/Department_Q1-1.csv\")\n",
    "df_employee   = spark.read.option(\"header\", True).csv(\"/FileStore/tables/Employee_Q1-1.csv\")\n",
    "\n",
    "df_country = clean_column_names(df_country)\n",
    "df_employee = trim_string_columns(df_employee)\n",
    "\n",
    "\n",
    "\n",
    "df_employee.write.mode(\"overwrite\").option(\"header\", True).csv(\"/FileStore//source_to_bronze/employee\")\n",
    "df_department.write.mode(\"overwrite\").option(\"header\", True).csv(\"/FileStore//source_to_bronze/department_df\")\n",
    "df_country.write.mode(\"overwrite\").option(\"header\", True).csv(\"/FileStore//source_to_bronze/country_df\")"
   ]
  },
  {
   "cell_type": "code",
   "execution_count": 0,
   "metadata": {
    "application/vnd.databricks.v1+cell": {
     "cellMetadata": {
      "byteLimit": 2048000,
      "rowLimit": 10000
     },
     "inputWidgets": {},
     "nuid": "df5ce376-b8d4-429f-ba34-504fc8e5adbc",
     "showTitle": false,
     "tableResultSettingsMap": {},
     "title": ""
    }
   },
   "outputs": [
    {
     "output_type": "stream",
     "name": "stdout",
     "output_type": "stream",
     "text": [
      "+----------+------------+----------+-------+------+---+\n|EmployeeID|EmployeeName|Department|Country|Salary|Age|\n+----------+------------+----------+-------+------+---+\n|         1|       James|      D101|     IN|  9000| 25|\n|         2|      Michel|      D102|     SA|  8000| 26|\n|         3|   James son|      D101|     IN| 10000| 35|\n|         4|      Robert|      D103|     MY| 11000| 34|\n|         5|       Scott|      D104|     MA|  6000| 36|\n|         6|         Gen|      D105|     JA| 21345| 24|\n|         7|        John|      D102|     MY| 87654| 40|\n|         8|       Maria|      D105|     SA| 38144| 38|\n|         9|       Soffy|      D103|     IN| 23456| 29|\n|        10|         Amy|      D103|     CN| 21345| 24|\n+----------+------------+----------+-------+------+---+\n\n"
     ]
    }
   ],
   "source": [
    "df_employee.show()"
   ]
  },
  {
   "cell_type": "code",
   "execution_count": 0,
   "metadata": {
    "application/vnd.databricks.v1+cell": {
     "cellMetadata": {
      "byteLimit": 2048000,
      "rowLimit": 10000
     },
     "inputWidgets": {},
     "nuid": "f65d2304-beed-48cd-b1ae-8c0b4f359713",
     "showTitle": false,
     "tableResultSettingsMap": {},
     "title": ""
    }
   },
   "outputs": [
    {
     "output_type": "stream",
     "name": "stdout",
     "output_type": "stream",
     "text": [
      "+------------+--------------+\n|DepartmentID|DepartmentName|\n+------------+--------------+\n|        D101|         Sales|\n|        D102|     Marketing|\n|        D103|       Finance|\n|        D104|       Support|\n|        D105|            HR|\n+------------+--------------+\n\n"
     ]
    }
   ],
   "source": [
    "df_department.show()"
   ]
  },
  {
   "cell_type": "code",
   "execution_count": 0,
   "metadata": {
    "application/vnd.databricks.v1+cell": {
     "cellMetadata": {
      "byteLimit": 2048000,
      "rowLimit": 10000
     },
     "inputWidgets": {},
     "nuid": "0228ac93-aaa8-4580-9009-5563a235d4b7",
     "showTitle": false,
     "tableResultSettingsMap": {},
     "title": ""
    }
   },
   "outputs": [
    {
     "output_type": "stream",
     "name": "stdout",
     "output_type": "stream",
     "text": [
      "+-----------+------------+\n|countrycode| countryname|\n+-----------+------------+\n|         CN|       China|\n|         IN|       India|\n|         SA|South Africa|\n|         JA|       Japan|\n|         MY|    Malaysia|\n|         MA|     Morocco|\n+-----------+------------+\n\n"
     ]
    }
   ],
   "source": [
    "df_country.show()"
   ]
  },
  {
   "cell_type": "code",
   "execution_count": 0,
   "metadata": {
    "application/vnd.databricks.v1+cell": {
     "cellMetadata": {
      "byteLimit": 2048000,
      "rowLimit": 10000
     },
     "inputWidgets": {},
     "nuid": "94f4797b-9e21-4774-8036-0832cc5aee65",
     "showTitle": false,
     "tableResultSettingsMap": {},
     "title": ""
    }
   },
   "outputs": [
    {
     "output_type": "stream",
     "name": "stdout",
     "output_type": "stream",
     "text": [
      "Out[6]: [FileInfo(path='dbfs:/source_to_bronze/employee.csv/_committed_3994872756253727075', name='_committed_3994872756253727075', size=112, modificationTime=1744891434000),\n FileInfo(path='dbfs:/source_to_bronze/employee.csv/_committed_6059536694124585719', name='_committed_6059536694124585719', size=199, modificationTime=1744891579000),\n FileInfo(path='dbfs:/source_to_bronze/employee.csv/_committed_8053102779830882702', name='_committed_8053102779830882702', size=198, modificationTime=1745007031000),\n FileInfo(path='dbfs:/source_to_bronze/employee.csv/_committed_8282573353175501371', name='_committed_8282573353175501371', size=210, modificationTime=1744891468000),\n FileInfo(path='dbfs:/source_to_bronze/employee.csv/_committed_vacuum8802175083087696734', name='_committed_vacuum8802175083087696734', size=96, modificationTime=1745007033000),\n FileInfo(path='dbfs:/source_to_bronze/employee.csv/_started_8053102779830882702', name='_started_8053102779830882702', size=0, modificationTime=1745007030000),\n FileInfo(path='dbfs:/source_to_bronze/employee.csv/part-00000-tid-8053102779830882702-c11ab36e-ce65-4898-997a-aaaea21874b6-3-1-c000.csv', name='part-00000-tid-8053102779830882702-c11ab36e-ce65-4898-997a-aaaea21874b6-3-1-c000.csv', size=303, modificationTime=1745007031000)]"
     ]
    }
   ],
   "source": [
    "dbutils.fs.ls('/source_to_bronze/employee.csv')"
   ]
  },
  {
   "cell_type": "code",
   "execution_count": 0,
   "metadata": {
    "application/vnd.databricks.v1+cell": {
     "cellMetadata": {
      "byteLimit": 2048000,
      "rowLimit": 10000
     },
     "inputWidgets": {},
     "nuid": "08220590-bdc5-43fb-ad40-73f3bf493e05",
     "showTitle": false,
     "tableResultSettingsMap": {},
     "title": ""
    }
   },
   "outputs": [],
   "source": []
  }
 ],
 "metadata": {
  "application/vnd.databricks.v1+notebook": {
   "computePreferences": null,
   "dashboards": [],
   "environmentMetadata": {
    "base_environment": "",
    "environment_version": "1"
   },
   "inputWidgetPreferences": null,
   "language": "python",
   "notebookMetadata": {
    "mostRecentlyExecutedCommandWithImplicitDF": {
     "commandId": 404168100347634,
     "dataframes": [
      "_sqldf"
     ]
    },
    "pythonIndentUnit": 4
   },
   "notebookName": "employee_source_bronze",
   "widgets": {}
  }
 },
 "nbformat": 4,
 "nbformat_minor": 0
}