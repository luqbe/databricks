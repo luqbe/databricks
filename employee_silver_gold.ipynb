{
 "cells": [
  {
   "cell_type": "code",
   "execution_count": 0,
   "metadata": {
    "application/vnd.databricks.v1+cell": {
     "cellMetadata": {
      "byteLimit": 2048000,
      "rowLimit": 10000
     },
     "inputWidgets": {},
     "nuid": "c328d730-e001-46b3-8c90-b9d5c6a7c5a8",
     "showTitle": false,
     "tableResultSettingsMap": {},
     "title": ""
    }
   },
   "outputs": [],
   "source": [
    "%run \"../source_bronze/source_bronze_utils\""
   ]
  },
  {
   "cell_type": "code",
   "execution_count": 0,
   "metadata": {
    "application/vnd.databricks.v1+cell": {
     "cellMetadata": {
      "byteLimit": 2048000,
      "rowLimit": 10000
     },
     "inputWidgets": {},
     "nuid": "7e3c2e66-7dd9-4926-9aa5-3f470113b965",
     "showTitle": false,
     "tableResultSettingsMap": {},
     "title": ""
    }
   },
   "outputs": [
    {
     "output_type": "stream",
     "name": "stdout",
     "output_type": "stream",
     "text": [
      "+-----------+-------------+----------+-------+------+---+----------+\n|employee_id|employee_name|department|country|salary|age| load_date|\n+-----------+-------------+----------+-------+------+---+----------+\n|          1|        James|      D101|     IN|  9000| 25|2025-04-19|\n|          2|       Michel|      D102|     SA|  8000| 26|2025-04-19|\n|          3|    James son|      D101|     IN| 10000| 35|2025-04-19|\n|          4|       Robert|      D103|     MY| 11000| 34|2025-04-19|\n|          5|        Scott|      D104|     MA|  6000| 36|2025-04-19|\n|          6|          Gen|      D105|     JA| 21345| 24|2025-04-19|\n|          7|         John|      D102|     MY| 87654| 40|2025-04-19|\n|          8|        Maria|      D105|     SA| 38144| 38|2025-04-19|\n|          9|        Soffy|      D103|     IN| 23456| 29|2025-04-19|\n|         10|          Amy|      D103|     CN| 21345| 24|2025-04-19|\n+-----------+-------------+----------+-------+------+---+----------+\n\n"
     ]
    }
   ],
   "source": [
    "df_employee = spark.read.table(\"employee_info_abu.dim_employee\")\n",
    "df_employee.show()"
   ]
  },
  {
   "cell_type": "code",
   "execution_count": 0,
   "metadata": {
    "application/vnd.databricks.v1+cell": {
     "cellMetadata": {
      "byteLimit": 2048000,
      "rowLimit": 10000
     },
     "inputWidgets": {},
     "nuid": "872f3127-0bb1-4c59-a049-ed079183b5fc",
     "showTitle": false,
     "tableResultSettingsMap": {},
     "title": ""
    }
   },
   "outputs": [],
   "source": []
  },
  {
   "cell_type": "code",
   "execution_count": 0,
   "metadata": {
    "application/vnd.databricks.v1+cell": {
     "cellMetadata": {
      "byteLimit": 2048000,
      "rowLimit": 10000
     },
     "inputWidgets": {},
     "nuid": "660b137e-57ea-4b1a-bb8c-b5a012b22383",
     "showTitle": false,
     "tableResultSettingsMap": {},
     "title": ""
    }
   },
   "outputs": [
    {
     "output_type": "stream",
     "name": "stdout",
     "output_type": "stream",
     "text": [
      "+-------------+---------------+----------+\n|department_id|department_name| load_date|\n+-------------+---------------+----------+\n|         D101|          Sales|2025-04-19|\n|         D102|      Marketing|2025-04-19|\n|         D103|        Finance|2025-04-19|\n|         D104|        Support|2025-04-19|\n|         D105|             HR|2025-04-19|\n+-------------+---------------+----------+\n\n"
     ]
    }
   ],
   "source": [
    "df_department = spark.read.table(\"employee_info_abu.dim_depart\")\n",
    "df_department.show()"
   ]
  },
  {
   "cell_type": "code",
   "execution_count": 0,
   "metadata": {
    "application/vnd.databricks.v1+cell": {
     "cellMetadata": {
      "byteLimit": 2048000,
      "rowLimit": 10000
     },
     "inputWidgets": {},
     "nuid": "8805b227-1a61-41f5-a710-d2cfe0dbe078",
     "showTitle": false,
     "tableResultSettingsMap": {},
     "title": ""
    }
   },
   "outputs": [
    {
     "output_type": "stream",
     "name": "stdout",
     "output_type": "stream",
     "text": [
      "+---------+------+---------------+\n| emp_name|salary|department_name|\n+---------+------+---------------+\n|    James|  9000|          Sales|\n|   Michel|  8000|      Marketing|\n|James son| 10000|          Sales|\n|   Robert| 11000|        Finance|\n|    Scott|  6000|        Support|\n|      Gen| 21345|             HR|\n|     John| 87654|      Marketing|\n|    Maria| 38144|             HR|\n|    Soffy| 23456|        Finance|\n|      Amy| 21345|        Finance|\n+---------+------+---------------+\n\n+---------------+------------+\n|department_name|total_salary|\n+---------------+------------+\n|      Marketing|       95654|\n|             HR|       59489|\n|        Finance|       55801|\n|          Sales|       19000|\n|        Support|        6000|\n+---------------+------------+\n\n"
     ]
    }
   ],
   "source": [
    "from pyspark.sql.functions import col\n",
    "emp_df = df_employee.alias(\"emp\")\n",
    "dept_df = df_department.alias(\"dept\")\n",
    "df_employee_join = emp_df.join(\n",
    "    dept_df,\n",
    "    col(\"emp.department\") == col(\"dept.department_id\"),\n",
    "    \"left\"\n",
    ")\n",
    "df_result = df_employee_join.select(\n",
    "    col(\"emp.employee_name\").alias(\"emp_name\"),\n",
    "    col(\"emp.salary\"),\n",
    "    col(\"dept.department_name\")  \n",
    ")\n",
    "df_result.show()\n",
    "from pyspark.sql.functions import sum\n",
    "\n",
    "department_salary = df_result.groupBy(\"department_name\") \\\n",
    "    .agg(sum(\"salary\").alias(\"total_salary\")) \\\n",
    "    .orderBy(\"total_salary\", ascending=False)\n",
    "\n",
    "\n",
    "department_salary.show()\n",
    "\n",
    "\n",
    "\n",
    "\n",
    "\n",
    "\n",
    "\n",
    "\n",
    "\n",
    "\n",
    "\n",
    "\n"
   ]
  },
  {
   "cell_type": "code",
   "execution_count": 0,
   "metadata": {
    "application/vnd.databricks.v1+cell": {
     "cellMetadata": {
      "byteLimit": 2048000,
      "rowLimit": 10000
     },
     "inputWidgets": {},
     "nuid": "b461019f-e8be-47b7-a854-4f1230181b85",
     "showTitle": false,
     "tableResultSettingsMap": {},
     "title": ""
    }
   },
   "outputs": [
    {
     "output_type": "stream",
     "name": "stdout",
     "output_type": "stream",
     "text": [
      " Empty table `ben_gold_employee.fact_employee` created at /FileStore/gold/employee/ben_gold_employee/fact_employee\n"
     ]
    }
   ],
   "source": [
    "from pyspark.sql.types import StructType, StructField, IntegerType, StringType, DateType,LongType\n",
    "\n",
    "# Define snake_case schema for the employee table\n",
    "gold_schema = StructType([\n",
    "    StructField(\"department_name\", StringType(), True),\n",
    "    StructField(\"total_salary\", LongType(), True),  # Use LongType\n",
    "    StructField(\"at_load_date\", DateType(), True)\n",
    "])\n",
    "\n",
    "# Create empty DataFrame with schema\n",
    "df_gold= spark.createDataFrame([], schema=gold_schema)\n",
    "\n",
    "# Set database, table name, and location\n",
    "db_name = \"ben_gold_employee\"\n",
    "table_name = \"fact_employee\"\n",
    "table_path = f\"/FileStore/gold/employee/{db_name}/{table_name}\"\n",
    "\n",
    "# Create the database if not exists\n",
    "spark.sql(f\"CREATE schema IF NOT EXISTS {db_name}\")\n",
    "\n",
    "if not spark._jsparkSession.catalog().tableExists(f\"{db_name}.{table_name}\"):\n",
    "    df_gold.write.format(\"delta\").mode(\"overwrite\").save(table_path)\n",
    "    spark.sql(f\"\"\"\n",
    "        CREATE TABLE {db_name}.{table_name}\n",
    "        USING DELTA\n",
    "        LOCATION '{table_path}'\n",
    "    \"\"\")\n",
    "\n",
    "print(f\" Empty table `{db_name}.{table_name}` created at {table_path}\")\n",
    "\n"
   ]
  },
  {
   "cell_type": "code",
   "execution_count": 0,
   "metadata": {
    "application/vnd.databricks.v1+cell": {
     "cellMetadata": {
      "byteLimit": 2048000,
      "rowLimit": 10000
     },
     "inputWidgets": {},
     "nuid": "96127dbc-4612-4a8f-ba32-b864e3e1706e",
     "showTitle": false,
     "tableResultSettingsMap": {},
     "title": ""
    }
   },
   "outputs": [],
   "source": [
    "department_salary = department_salary.withColumn(\"at_load_date\", current_date())\n",
    "\n",
    "department_salary.write.format(\"delta\").mode(\"overwrite\").option(\"mergeSchema\", \"true\").saveAsTable(\"ben_gold_employee.fact_employee\")\n",
    "\n",
    "#df = spark.read.format(\"delta\").load(table_path)\n",
    "#df.show()"
   ]
  },
  {
   "cell_type": "code",
   "execution_count": 0,
   "metadata": {
    "application/vnd.databricks.v1+cell": {
     "cellMetadata": {
      "byteLimit": 2048000,
      "rowLimit": 10000
     },
     "inputWidgets": {},
     "nuid": "bd3a4f28-6dee-499e-b2ec-60e8be3b630d",
     "showTitle": false,
     "tableResultSettingsMap": {},
     "title": ""
    }
   },
   "outputs": [
    {
     "output_type": "stream",
     "name": "stdout",
     "output_type": "stream",
     "text": [
      "+---------------+------------+\n|department_name|total_salary|\n+---------------+------------+\n|      Marketing|       95654|\n|             HR|       59489|\n|        Finance|       55801|\n|          Sales|       19000|\n|        Support|        6000|\n+---------------+------------+\n\n"
     ]
    }
   ],
   "source": [
    "department_salary.show()"
   ]
  },
  {
   "cell_type": "code",
   "execution_count": 0,
   "metadata": {
    "application/vnd.databricks.v1+cell": {
     "cellMetadata": {
      "byteLimit": 2048000,
      "implicitDf": true,
      "rowLimit": 10000
     },
     "inputWidgets": {},
     "nuid": "efa735b9-c519-415b-a2e3-a42466bb30a7",
     "showTitle": false,
     "tableResultSettingsMap": {},
     "title": ""
    }
   },
   "outputs": [
    {
     "output_type": "display_data",
     "data": {
      "text/html": [
       "<style scoped>\n",
       "  .table-result-container {\n",
       "    max-height: 300px;\n",
       "    overflow: auto;\n",
       "  }\n",
       "  table, th, td {\n",
       "    border: 1px solid black;\n",
       "    border-collapse: collapse;\n",
       "  }\n",
       "  th, td {\n",
       "    padding: 5px;\n",
       "  }\n",
       "  th {\n",
       "    text-align: left;\n",
       "  }\n",
       "</style><div class='table-result-container'><table class='table-result'><thead style='background-color: white'><tr><th>department_name</th><th>total_salary</th><th>at_load_date</th></tr></thead><tbody><tr><td>Marketing</td><td>95654</td><td>2025-04-19</td></tr><tr><td>HR</td><td>59489</td><td>2025-04-19</td></tr><tr><td>Finance</td><td>55801</td><td>2025-04-19</td></tr><tr><td>Sales</td><td>19000</td><td>2025-04-19</td></tr><tr><td>Support</td><td>6000</td><td>2025-04-19</td></tr></tbody></table></div>"
      ]
     },
     "metadata": {
      "application/vnd.databricks.v1+output": {
       "addedWidgets": {},
       "aggData": [],
       "aggError": "",
       "aggOverflow": false,
       "aggSchema": [],
       "aggSeriesLimitReached": false,
       "aggType": "",
       "arguments": {},
       "columnCustomDisplayInfos": {},
       "data": [
        [
         "Marketing",
         95654,
         "2025-04-19"
        ],
        [
         "HR",
         59489,
         "2025-04-19"
        ],
        [
         "Finance",
         55801,
         "2025-04-19"
        ],
        [
         "Sales",
         19000,
         "2025-04-19"
        ],
        [
         "Support",
         6000,
         "2025-04-19"
        ]
       ],
       "datasetInfos": [],
       "dbfsResultPath": null,
       "isJsonSchema": true,
       "metadata": {},
       "overflow": false,
       "plotOptions": {
        "customPlotOptions": {},
        "displayType": "table",
        "pivotAggregation": null,
        "pivotColumns": null,
        "xColumns": null,
        "yColumns": null
       },
       "removedWidgets": [],
       "schema": [
        {
         "metadata": "{}",
         "name": "department_name",
         "type": "\"string\""
        },
        {
         "metadata": "{}",
         "name": "total_salary",
         "type": "\"long\""
        },
        {
         "metadata": "{}",
         "name": "at_load_date",
         "type": "\"date\""
        }
       ],
       "type": "table"
      }
     },
     "output_type": "display_data"
    }
   ],
   "source": [
    "%sql\n",
    "select * from ben_gold_employee.fact_employee"
   ]
  },
  {
   "cell_type": "code",
   "execution_count": 0,
   "metadata": {
    "application/vnd.databricks.v1+cell": {
     "cellMetadata": {
      "byteLimit": 2048000,
      "rowLimit": 10000
     },
     "inputWidgets": {},
     "nuid": "cb64d61a-7d25-451f-af8b-f1f35872ada8",
     "showTitle": false,
     "tableResultSettingsMap": {},
     "title": ""
    }
   },
   "outputs": [
    {
     "output_type": "stream",
     "name": "stdout",
     "output_type": "stream",
     "text": [
      "+------------+------------+----------+\n|country_code|country_name| load_date|\n+------------+------------+----------+\n|          CN|       China|2025-04-19|\n|          IN|       India|2025-04-19|\n|          SA|South Africa|2025-04-19|\n|          JA|       Japan|2025-04-19|\n|          MY|    Malaysia|2025-04-19|\n|          MA|     Morocco|2025-04-19|\n+------------+------------+----------+\n\n"
     ]
    }
   ],
   "source": [
    "df_country = spark.read.table(\"employee_info_abu.dim_country\")\n",
    "from pyspark.sql.functions import current_date\n",
    "df_modified_count=df_country.withColumn(\"load_date\",current_date())\n",
    "df_modified_count.show()"
   ]
  },
  {
   "cell_type": "code",
   "execution_count": 0,
   "metadata": {
    "application/vnd.databricks.v1+cell": {
     "cellMetadata": {
      "byteLimit": 2048000,
      "rowLimit": 10000
     },
     "inputWidgets": {},
     "nuid": "46fa4765-2d3f-4590-bbc1-feb232c66b92",
     "showTitle": false,
     "tableResultSettingsMap": {},
     "title": ""
    }
   },
   "outputs": [
    {
     "output_type": "stream",
     "name": "stdout",
     "output_type": "stream",
     "text": [
      "+-----------+-------------+----------+-------+------+---+----------+-------------+---------------+----------+------------+------------+---------+\n|employee_id|employee_name|department|country|salary|age| load_date|department_id|department_name| load_date|country_code|country_name|load_date|\n+-----------+-------------+----------+-------+------+---+----------+-------------+---------------+----------+------------+------------+---------+\n|          1|        James|      D101|     IN|  9000| 25|2025-04-19|         D101|          Sales|2025-04-19|          IN|       India|     null|\n|          2|       Michel|      D102|     SA|  8000| 26|2025-04-19|         D102|      Marketing|2025-04-19|          SA|South Africa|     null|\n|          3|    James son|      D101|     IN| 10000| 35|2025-04-19|         D101|          Sales|2025-04-19|          IN|       India|     null|\n|          4|       Robert|      D103|     MY| 11000| 34|2025-04-19|         D103|        Finance|2025-04-19|          MY|    Malaysia|     null|\n|          5|        Scott|      D104|     MA|  6000| 36|2025-04-19|         D104|        Support|2025-04-19|          MA|     Morocco|     null|\n|          6|          Gen|      D105|     JA| 21345| 24|2025-04-19|         D105|             HR|2025-04-19|          JA|       Japan|     null|\n|          7|         John|      D102|     MY| 87654| 40|2025-04-19|         D102|      Marketing|2025-04-19|          MY|    Malaysia|     null|\n|          8|        Maria|      D105|     SA| 38144| 38|2025-04-19|         D105|             HR|2025-04-19|          SA|South Africa|     null|\n|          9|        Soffy|      D103|     IN| 23456| 29|2025-04-19|         D103|        Finance|2025-04-19|          IN|       India|     null|\n|         10|          Amy|      D103|     CN| 21345| 24|2025-04-19|         D103|        Finance|2025-04-19|          CN|       China|     null|\n+-----------+-------------+----------+-------+------+---+----------+-------------+---------------+----------+------------+------------+---------+\n\n+---------+------+---------------+------------+\n| emp_name|salary|department_name|country_name|\n+---------+------+---------------+------------+\n|    James|  9000|          Sales|       India|\n|   Michel|  8000|      Marketing|South Africa|\n|James son| 10000|          Sales|       India|\n|   Robert| 11000|        Finance|    Malaysia|\n|    Scott|  6000|        Support|     Morocco|\n|      Gen| 21345|             HR|       Japan|\n|     John| 87654|      Marketing|    Malaysia|\n|    Maria| 38144|             HR|South Africa|\n|    Soffy| 23456|        Finance|       India|\n|      Amy| 21345|        Finance|       China|\n+---------+------+---------------+------------+\n\n+---------------+------------+--------------+\n|department_name|country_name|employee_count|\n+---------------+------------+--------------+\n|        Finance|       China|             1|\n|        Finance|       India|             1|\n|        Finance|    Malaysia|             1|\n|             HR|       Japan|             1|\n|             HR|South Africa|             1|\n|      Marketing|    Malaysia|             1|\n|      Marketing|South Africa|             1|\n|          Sales|       India|             2|\n|        Support|     Morocco|             1|\n+---------------+------------+--------------+\n\n"
     ]
    }
   ],
   "source": [
    "from pyspark.sql.functions import col,count,avg\n",
    "count_df=df_country.alias(\"count\")\n",
    "emp1_df = df_employee.alias(\"emp1\")\n",
    "dept1_df = df_department.alias(\"dept1\")\n",
    "\n",
    "df_join=emp1_df.join(dept1_df,col(\"emp1.department\") == col(\"dept1.department_id\"),\n",
    "                     \"left\") \\\n",
    "               .join(count_df,col(\"emp1.country\")==col(\"count.country_code\"),\"left\")\n",
    "df_join.show()\n",
    "df_cleaned = df_join.filter(col(\"employee_id\").isNotNull())\n",
    "\n",
    "df1_result = df_cleaned.select(\n",
    "    col(\"emp1.employee_name\").alias(\"emp_name\"),\n",
    "    col(\"emp1.salary\"),\n",
    "    col(\"dept1.department_name\"),\n",
    "    col(\"count.country_name\")\n",
    "\n",
    "    \n",
    ") \n",
    "\n",
    "df1_result.show()              \n",
    "department = df1_result.groupBy(\"department_name\",\"country_name\") \\\n",
    "    .agg(count(\"*\").alias(\"employee_count\")) \\\n",
    "    .orderBy(\"department_name\",\"country_name\")\n",
    "\n",
    "\n",
    "department.show()\n"
   ]
  },
  {
   "cell_type": "code",
   "execution_count": 0,
   "metadata": {
    "application/vnd.databricks.v1+cell": {
     "cellMetadata": {
      "byteLimit": 2048000,
      "rowLimit": 10000
     },
     "inputWidgets": {},
     "nuid": "434c9353-ebf7-40ff-bcf4-9e35f4a8c9ea",
     "showTitle": false,
     "tableResultSettingsMap": {},
     "title": ""
    }
   },
   "outputs": [
    {
     "output_type": "stream",
     "name": "stdout",
     "output_type": "stream",
     "text": [
      " Empty table `ben_gold_employee.fact1_employee` created at /FileStore/gold/employee/ben_gold_employee/fact1_employee\n"
     ]
    }
   ],
   "source": [
    "from pyspark.sql.types import StructType, StructField, IntegerType, StringType, DateType,LongType\n",
    "\n",
    "# Define snake_case schema for the employee table\n",
    "gold1_schema = StructType([\n",
    "    StructField(\"department_name\", StringType(), True),\n",
    "    StructField(\"country_name\", StringType(), True),  \n",
    "    StructField(\"employee_count\", IntegerType(), True),\n",
    "    StructField(\"at_load_date\", DateType(), True)\n",
    "])\n",
    "\n",
    "# Create empty DataFrame with schema\n",
    "df_gold1= spark.createDataFrame([], schema=gold1_schema)\n",
    "db_name = \"ben_gold_employee\"\n",
    "table_name = \"fact1_employee\"\n",
    "table_path = f\"/FileStore/gold/employee/{db_name}/{table_name}\"\n",
    "\n",
    "# Create the database if not exists\n",
    "spark.sql(f\"CREATE schema IF NOT EXISTS {db_name}\")\n",
    "\n",
    "# Create the table only if it doesn't exist\n",
    "if not spark._jsparkSession.catalog().tableExists(f\"{db_name}.{table_name}\"):\n",
    "    df_gold1.write.format(\"delta\").mode(\"overwrite\").save(table_path)\n",
    "    spark.sql(f\"\"\"\n",
    "        CREATE TABLE {db_name}.{table_name}\n",
    "        USING DELTA\n",
    "        LOCATION '{table_path}'\n",
    "    \"\"\")\n",
    "\n",
    "print(f\" Empty table `{db_name}.{table_name}` created at {table_path}\")\n",
    "\n",
    "\n",
    "\n"
   ]
  },
  {
   "cell_type": "code",
   "execution_count": 0,
   "metadata": {
    "application/vnd.databricks.v1+cell": {
     "cellMetadata": {
      "byteLimit": 2048000,
      "implicitDf": true,
      "rowLimit": 10000
     },
     "inputWidgets": {},
     "nuid": "0261977e-c053-4237-9e0b-0a8b780cbbea",
     "showTitle": false,
     "tableResultSettingsMap": {},
     "title": ""
    }
   },
   "outputs": [
    {
     "output_type": "display_data",
     "data": {
      "text/html": [
       "<style scoped>\n",
       "  .table-result-container {\n",
       "    max-height: 300px;\n",
       "    overflow: auto;\n",
       "  }\n",
       "  table, th, td {\n",
       "    border: 1px solid black;\n",
       "    border-collapse: collapse;\n",
       "  }\n",
       "  th, td {\n",
       "    padding: 5px;\n",
       "  }\n",
       "  th {\n",
       "    text-align: left;\n",
       "  }\n",
       "</style><div class='table-result-container'><table class='table-result'><thead style='background-color: white'><tr><th>col_name</th><th>data_type</th><th>comment</th></tr></thead><tbody><tr><td>department_name</td><td>string</td><td>null</td></tr><tr><td>country_name</td><td>string</td><td>null</td></tr><tr><td>employee_count</td><td>int</td><td>null</td></tr><tr><td>at_load_date</td><td>date</td><td>null</td></tr><tr><td></td><td></td><td></td></tr><tr><td># Detailed Table Information</td><td></td><td></td></tr><tr><td>Catalog</td><td>spark_catalog</td><td></td></tr><tr><td>Database</td><td>ben_gold_employee</td><td></td></tr><tr><td>Table</td><td>fact1_employee</td><td></td></tr><tr><td>Created Time</td><td>Sat Apr 19 17:21:50 UTC 2025</td><td></td></tr><tr><td>Last Access</td><td>UNKNOWN</td><td></td></tr><tr><td>Created By</td><td>Spark 3.3.2</td><td></td></tr><tr><td>Type</td><td>EXTERNAL</td><td></td></tr><tr><td>Location</td><td>dbfs:/FileStore/gold/employee/ben_gold_employee/fact1_employee</td><td></td></tr><tr><td>Provider</td><td>delta</td><td></td></tr><tr><td>Owner</td><td>root</td><td></td></tr><tr><td>Table Properties</td><td>[delta.minReaderVersion=1,delta.minWriterVersion=2]</td><td></td></tr></tbody></table></div>"
      ]
     },
     "metadata": {
      "application/vnd.databricks.v1+output": {
       "addedWidgets": {},
       "aggData": [],
       "aggError": "",
       "aggOverflow": false,
       "aggSchema": [],
       "aggSeriesLimitReached": false,
       "aggType": "",
       "arguments": {},
       "columnCustomDisplayInfos": {},
       "data": [
        [
         "department_name",
         "string",
         null
        ],
        [
         "country_name",
         "string",
         null
        ],
        [
         "employee_count",
         "int",
         null
        ],
        [
         "at_load_date",
         "date",
         null
        ],
        [
         "",
         "",
         ""
        ],
        [
         "# Detailed Table Information",
         "",
         ""
        ],
        [
         "Catalog",
         "spark_catalog",
         ""
        ],
        [
         "Database",
         "ben_gold_employee",
         ""
        ],
        [
         "Table",
         "fact1_employee",
         ""
        ],
        [
         "Created Time",
         "Sat Apr 19 17:21:50 UTC 2025",
         ""
        ],
        [
         "Last Access",
         "UNKNOWN",
         ""
        ],
        [
         "Created By",
         "Spark 3.3.2",
         ""
        ],
        [
         "Type",
         "EXTERNAL",
         ""
        ],
        [
         "Location",
         "dbfs:/FileStore/gold/employee/ben_gold_employee/fact1_employee",
         ""
        ],
        [
         "Provider",
         "delta",
         ""
        ],
        [
         "Owner",
         "root",
         ""
        ],
        [
         "Table Properties",
         "[delta.minReaderVersion=1,delta.minWriterVersion=2]",
         ""
        ]
       ],
       "datasetInfos": [],
       "dbfsResultPath": null,
       "isJsonSchema": true,
       "metadata": {},
       "overflow": false,
       "plotOptions": {
        "customPlotOptions": {},
        "displayType": "table",
        "pivotAggregation": null,
        "pivotColumns": null,
        "xColumns": null,
        "yColumns": null
       },
       "removedWidgets": [],
       "schema": [
        {
         "metadata": "{\"comment\":\"name of the column\"}",
         "name": "col_name",
         "type": "\"string\""
        },
        {
         "metadata": "{\"comment\":\"data type of the column\"}",
         "name": "data_type",
         "type": "\"string\""
        },
        {
         "metadata": "{\"comment\":\"comment of the column\"}",
         "name": "comment",
         "type": "\"string\""
        }
       ],
       "type": "table"
      }
     },
     "output_type": "display_data"
    }
   ],
   "source": [
    "%sql\n",
    "desc extended ben_gold_employee.fact1_employee"
   ]
  },
  {
   "cell_type": "code",
   "execution_count": 0,
   "metadata": {
    "application/vnd.databricks.v1+cell": {
     "cellMetadata": {
      "byteLimit": 2048000,
      "rowLimit": 10000
     },
     "inputWidgets": {},
     "nuid": "4f93419a-256f-4007-be2e-a6ead8967931",
     "showTitle": false,
     "tableResultSettingsMap": {},
     "title": ""
    }
   },
   "outputs": [],
   "source": [
    "#department = department.withColumn(\"at_load_date\", current_date())\n",
    "from pyspark.sql.functions import col\n",
    "from pyspark.sql.types import LongType, StringType, DateType\n",
    "department=department.select(col(\"employee_count\").cast(IntegerType()))\n",
    "\n",
    "\n",
    "department.write.format(\"delta\").mode(\"overwrite\").option(\"mergeSchema\", \"true\").saveAsTable(\"ben_gold_employee.fact1_employee\")\n",
    "\n"
   ]
  },
  {
   "cell_type": "code",
   "execution_count": 0,
   "metadata": {
    "application/vnd.databricks.v1+cell": {
     "cellMetadata": {
      "byteLimit": 2048000,
      "rowLimit": 10000
     },
     "inputWidgets": {},
     "nuid": "318b437c-4ec4-42e4-bda8-e39e39b2309b",
     "showTitle": false,
     "tableResultSettingsMap": {},
     "title": ""
    }
   },
   "outputs": [
    {
     "output_type": "stream",
     "name": "stdout",
     "output_type": "stream",
     "text": [
      "+--------------+\n|employee_count|\n+--------------+\n|             1|\n|             1|\n|             1|\n|             1|\n|             1|\n|             1|\n|             1|\n|             2|\n|             1|\n+--------------+\n\n"
     ]
    }
   ],
   "source": [
    "department.show()"
   ]
  },
  {
   "cell_type": "code",
   "execution_count": 0,
   "metadata": {
    "application/vnd.databricks.v1+cell": {
     "cellMetadata": {
      "byteLimit": 2048000,
      "implicitDf": true,
      "rowLimit": 10000
     },
     "inputWidgets": {},
     "nuid": "006f0c40-e76d-46c5-8257-45090a0a6d05",
     "showTitle": false,
     "tableResultSettingsMap": {},
     "title": ""
    }
   },
   "outputs": [
    {
     "output_type": "display_data",
     "data": {
      "text/html": [
       "<style scoped>\n",
       "  .table-result-container {\n",
       "    max-height: 300px;\n",
       "    overflow: auto;\n",
       "  }\n",
       "  table, th, td {\n",
       "    border: 1px solid black;\n",
       "    border-collapse: collapse;\n",
       "  }\n",
       "  th, td {\n",
       "    padding: 5px;\n",
       "  }\n",
       "  th {\n",
       "    text-align: left;\n",
       "  }\n",
       "</style><div class='table-result-container'><table class='table-result'><thead style='background-color: white'><tr><th>department_name</th><th>country_name</th><th>employee_count</th><th>at_load_date</th></tr></thead><tbody><tr><td>null</td><td>null</td><td>1</td><td>null</td></tr><tr><td>null</td><td>null</td><td>1</td><td>null</td></tr><tr><td>null</td><td>null</td><td>1</td><td>null</td></tr><tr><td>null</td><td>null</td><td>1</td><td>null</td></tr><tr><td>null</td><td>null</td><td>1</td><td>null</td></tr><tr><td>null</td><td>null</td><td>1</td><td>null</td></tr><tr><td>null</td><td>null</td><td>1</td><td>null</td></tr><tr><td>null</td><td>null</td><td>2</td><td>null</td></tr><tr><td>null</td><td>null</td><td>1</td><td>null</td></tr></tbody></table></div>"
      ]
     },
     "metadata": {
      "application/vnd.databricks.v1+output": {
       "addedWidgets": {},
       "aggData": [],
       "aggError": "",
       "aggOverflow": false,
       "aggSchema": [],
       "aggSeriesLimitReached": false,
       "aggType": "",
       "arguments": {},
       "columnCustomDisplayInfos": {},
       "data": [
        [
         null,
         null,
         1,
         null
        ],
        [
         null,
         null,
         1,
         null
        ],
        [
         null,
         null,
         1,
         null
        ],
        [
         null,
         null,
         1,
         null
        ],
        [
         null,
         null,
         1,
         null
        ],
        [
         null,
         null,
         1,
         null
        ],
        [
         null,
         null,
         1,
         null
        ],
        [
         null,
         null,
         2,
         null
        ],
        [
         null,
         null,
         1,
         null
        ]
       ],
       "datasetInfos": [],
       "dbfsResultPath": null,
       "isJsonSchema": true,
       "metadata": {},
       "overflow": false,
       "plotOptions": {
        "customPlotOptions": {},
        "displayType": "table",
        "pivotAggregation": null,
        "pivotColumns": null,
        "xColumns": null,
        "yColumns": null
       },
       "removedWidgets": [],
       "schema": [
        {
         "metadata": "{}",
         "name": "department_name",
         "type": "\"string\""
        },
        {
         "metadata": "{}",
         "name": "country_name",
         "type": "\"string\""
        },
        {
         "metadata": "{}",
         "name": "employee_count",
         "type": "\"integer\""
        },
        {
         "metadata": "{}",
         "name": "at_load_date",
         "type": "\"date\""
        }
       ],
       "type": "table"
      }
     },
     "output_type": "display_data"
    }
   ],
   "source": [
    "%sql\n",
    "select * from ben_gold_employee.fact1_employee"
   ]
  },
  {
   "cell_type": "code",
   "execution_count": 0,
   "metadata": {
    "application/vnd.databricks.v1+cell": {
     "cellMetadata": {
      "byteLimit": 2048000,
      "rowLimit": 10000
     },
     "inputWidgets": {},
     "nuid": "a51d88ab-cd1d-4df8-8bbe-eca398d1b276",
     "showTitle": false,
     "tableResultSettingsMap": {},
     "title": ""
    }
   },
   "outputs": [
    {
     "output_type": "stream",
     "name": "stdout",
     "output_type": "stream",
     "text": [
      "+---------+------------+---------------+\n|emp2_name|     country|department_name|\n+---------+------------+---------------+\n|    James|       India|          Sales|\n|   Michel|South Africa|      Marketing|\n|James son|       India|          Sales|\n|   Robert|    Malaysia|        Finance|\n|    Scott|     Morocco|        Support|\n|      Gen|       Japan|             HR|\n|     John|    Malaysia|      Marketing|\n|    Maria|South Africa|             HR|\n|    Soffy|       India|        Finance|\n|      Amy|       China|        Finance|\n+---------+------------+---------------+\n\n+---------------+------------+\n|department_name|country_name|\n+---------------+------------+\n|          Sales|           2|\n|             HR|           2|\n|        Finance|           3|\n|      Marketing|           2|\n|        Support|           1|\n+---------------+------------+\n\n"
     ]
    }
   ],
   "source": [
    "from pyspark.sql.functions import col,count\n",
    "count1_df=df_country.alias(\"count1\")\n",
    "emp2_df = df_employee.alias(\"emp2\")\n",
    "dept2_df = df_department.alias(\"dept2\")\n",
    "df_dept_count=emp2_df.join(dept2_df,col(\"emp2.department\") == col(\"dept2.department_id\"),\"left\") \\\n",
    "                     .join(count1_df,col(\"emp2.country\") == col(\"count1.country_code\"),\"left\")\n",
    "#df_dept_count.show() \n",
    "df_res=  df_dept_count.select(col(\"emp2.employee_name\").alias(\"emp2_name\"),col(\"country_name\").alias(\"country\"),col(\"dept2.department_name\")) \n",
    "df_res.show()  \n",
    "df_group= df_res.groupBy(\"department_name\") \\\n",
    "              .agg(count(\"*\").alias(\"country_name\"))  \n",
    "df_group.show()                       "
   ]
  },
  {
   "cell_type": "code",
   "execution_count": 0,
   "metadata": {
    "application/vnd.databricks.v1+cell": {
     "cellMetadata": {
      "byteLimit": 2048000,
      "rowLimit": 10000
     },
     "inputWidgets": {},
     "nuid": "b9133eae-29fe-4b85-bd42-c2cab1b63ec5",
     "showTitle": false,
     "tableResultSettingsMap": {},
     "title": ""
    }
   },
   "outputs": [
    {
     "output_type": "stream",
     "name": "stdout",
     "output_type": "stream",
     "text": [
      " Empty table `ben_gold_employee.fact2_employee` created at /FileStore/gold/employee/ben_gold_employee/fact2_employee\n"
     ]
    }
   ],
   "source": [
    "from pyspark.sql.types import StructType, StructField, IntegerType, StringType, DateType,LongType\n",
    "\n",
    "# Define snake_case schema for the employee table\n",
    "gold2_schema = StructType([\n",
    "    StructField(\"emp2_name\", StringType(), True),\n",
    "    StructField(\"country\", StringType(), True),  \n",
    "    StructField(\"department_name\", StringType(), True),\n",
    "    StructField(\"at_load_date\", DateType(), True)\n",
    "])\n",
    "\n",
    "# Create empty DataFrame with schema\n",
    "df_gold2= spark.createDataFrame([], schema=gold1_schema)\n",
    "db_name = \"ben_gold_employee\"\n",
    "table_name = \"fact2_employee\"\n",
    "table_path = f\"/FileStore/gold/employee/{db_name}/{table_name}\"\n",
    "\n",
    "# Create the database if not exists\n",
    "spark.sql(f\"CREATE schema IF NOT EXISTS {db_name}\")\n",
    "\n",
    "# Create the table only if it doesn't exist\n",
    "if not spark._jsparkSession.catalog().tableExists(f\"{db_name}.{table_name}\"):\n",
    "    df_gold2.write.format(\"delta\").mode(\"overwrite\").save(table_path)\n",
    "    spark.sql(f\"\"\"\n",
    "        CREATE TABLE {db_name}.{table_name}\n",
    "        USING DELTA\n",
    "        LOCATION '{table_path}'\n",
    "    \"\"\")\n",
    "\n",
    "print(f\" Empty table `{db_name}.{table_name}` created at {table_path}\")"
   ]
  },
  {
   "cell_type": "code",
   "execution_count": 0,
   "metadata": {
    "application/vnd.databricks.v1+cell": {
     "cellMetadata": {
      "byteLimit": 2048000,
      "rowLimit": 10000
     },
     "inputWidgets": {},
     "nuid": "6f7e09e2-efda-4710-90ff-f0aff4445d46",
     "showTitle": false,
     "tableResultSettingsMap": {},
     "title": ""
    }
   },
   "outputs": [],
   "source": [
    "df_res = df_res.withColumn(\"at_load_date\", current_date())\n",
    "df_res.write.format(\"delta\").mode(\"overwrite\").option(\"mergeSchema\", \"true\").saveAsTable(\"ben_gold_employee.fact2_employee\")"
   ]
  },
  {
   "cell_type": "code",
   "execution_count": 0,
   "metadata": {
    "application/vnd.databricks.v1+cell": {
     "cellMetadata": {
      "byteLimit": 2048000,
      "implicitDf": true,
      "rowLimit": 10000
     },
     "inputWidgets": {},
     "nuid": "3e90e745-6849-4f54-9802-1970b7d87803",
     "showTitle": false,
     "tableResultSettingsMap": {},
     "title": ""
    }
   },
   "outputs": [
    {
     "output_type": "display_data",
     "data": {
      "text/html": [
       "<style scoped>\n",
       "  .table-result-container {\n",
       "    max-height: 300px;\n",
       "    overflow: auto;\n",
       "  }\n",
       "  table, th, td {\n",
       "    border: 1px solid black;\n",
       "    border-collapse: collapse;\n",
       "  }\n",
       "  th, td {\n",
       "    padding: 5px;\n",
       "  }\n",
       "  th {\n",
       "    text-align: left;\n",
       "  }\n",
       "</style><div class='table-result-container'><table class='table-result'><thead style='background-color: white'><tr><th>department_name</th><th>country_name</th><th>employee_count</th><th>at_load_date</th><th>emp2_name</th><th>country</th></tr></thead><tbody><tr><td>Sales</td><td>null</td><td>null</td><td>2025-04-19</td><td>James</td><td>India</td></tr><tr><td>Marketing</td><td>null</td><td>null</td><td>2025-04-19</td><td>Michel</td><td>South Africa</td></tr><tr><td>Sales</td><td>null</td><td>null</td><td>2025-04-19</td><td>James son</td><td>India</td></tr><tr><td>Finance</td><td>null</td><td>null</td><td>2025-04-19</td><td>Robert</td><td>Malaysia</td></tr><tr><td>Support</td><td>null</td><td>null</td><td>2025-04-19</td><td>Scott</td><td>Morocco</td></tr><tr><td>HR</td><td>null</td><td>null</td><td>2025-04-19</td><td>Gen</td><td>Japan</td></tr><tr><td>Marketing</td><td>null</td><td>null</td><td>2025-04-19</td><td>John</td><td>Malaysia</td></tr><tr><td>HR</td><td>null</td><td>null</td><td>2025-04-19</td><td>Maria</td><td>South Africa</td></tr><tr><td>Finance</td><td>null</td><td>null</td><td>2025-04-19</td><td>Soffy</td><td>India</td></tr><tr><td>Finance</td><td>null</td><td>null</td><td>2025-04-19</td><td>Amy</td><td>China</td></tr></tbody></table></div>"
      ]
     },
     "metadata": {
      "application/vnd.databricks.v1+output": {
       "addedWidgets": {},
       "aggData": [],
       "aggError": "",
       "aggOverflow": false,
       "aggSchema": [],
       "aggSeriesLimitReached": false,
       "aggType": "",
       "arguments": {},
       "columnCustomDisplayInfos": {},
       "data": [
        [
         "Sales",
         null,
         null,
         "2025-04-19",
         "James",
         "India"
        ],
        [
         "Marketing",
         null,
         null,
         "2025-04-19",
         "Michel",
         "South Africa"
        ],
        [
         "Sales",
         null,
         null,
         "2025-04-19",
         "James son",
         "India"
        ],
        [
         "Finance",
         null,
         null,
         "2025-04-19",
         "Robert",
         "Malaysia"
        ],
        [
         "Support",
         null,
         null,
         "2025-04-19",
         "Scott",
         "Morocco"
        ],
        [
         "HR",
         null,
         null,
         "2025-04-19",
         "Gen",
         "Japan"
        ],
        [
         "Marketing",
         null,
         null,
         "2025-04-19",
         "John",
         "Malaysia"
        ],
        [
         "HR",
         null,
         null,
         "2025-04-19",
         "Maria",
         "South Africa"
        ],
        [
         "Finance",
         null,
         null,
         "2025-04-19",
         "Soffy",
         "India"
        ],
        [
         "Finance",
         null,
         null,
         "2025-04-19",
         "Amy",
         "China"
        ]
       ],
       "datasetInfos": [],
       "dbfsResultPath": null,
       "isJsonSchema": true,
       "metadata": {},
       "overflow": false,
       "plotOptions": {
        "customPlotOptions": {},
        "displayType": "table",
        "pivotAggregation": null,
        "pivotColumns": null,
        "xColumns": null,
        "yColumns": null
       },
       "removedWidgets": [],
       "schema": [
        {
         "metadata": "{}",
         "name": "department_name",
         "type": "\"string\""
        },
        {
         "metadata": "{}",
         "name": "country_name",
         "type": "\"string\""
        },
        {
         "metadata": "{}",
         "name": "employee_count",
         "type": "\"long\""
        },
        {
         "metadata": "{}",
         "name": "at_load_date",
         "type": "\"date\""
        },
        {
         "metadata": "{}",
         "name": "emp2_name",
         "type": "\"string\""
        },
        {
         "metadata": "{}",
         "name": "country",
         "type": "\"string\""
        }
       ],
       "type": "table"
      }
     },
     "output_type": "display_data"
    }
   ],
   "source": [
    "%sql\n",
    "select * from ben_gold_employee.fact2_employee"
   ]
  },
  {
   "cell_type": "code",
   "execution_count": 0,
   "metadata": {
    "application/vnd.databricks.v1+cell": {
     "cellMetadata": {
      "byteLimit": 2048000,
      "rowLimit": 10000
     },
     "inputWidgets": {},
     "nuid": "8e2be015-ce06-4b94-a515-59ec3990c647",
     "showTitle": false,
     "tableResultSettingsMap": {},
     "title": ""
    }
   },
   "outputs": [
    {
     "output_type": "stream",
     "name": "stdout",
     "output_type": "stream",
     "text": [
      "+---------------+-------+\n|department_name|avg_age|\n+---------------+-------+\n|        Finance|   29.0|\n|             HR|   31.0|\n|      Marketing|   33.0|\n|          Sales|   30.0|\n|        Support|   36.0|\n+---------------+-------+\n\n"
     ]
    }
   ],
   "source": [
    "from pyspark.sql.functions import avg,col    \n",
    "\n",
    "df4_result = df_join.select(\n",
    "    col(\"emp1.employee_name\").alias(\"employ_name\"),col(\"emp1.age\").alias(\"emp_age\"),\n",
    "    col(\"dept1.department_name\"))\n",
    "#from pyspark.sql.functions import avg    \n",
    "\n",
    "df_age=df4_result.groupBy(\"department_name\") \\\n",
    "           .agg(avg(\"emp_age\").alias(\"avg_age\"))\\\n",
    "           .orderBy(\"department_name\",\"avg_age\") \n",
    "df_age.show()            "
   ]
  },
  {
   "cell_type": "code",
   "execution_count": 0,
   "metadata": {
    "application/vnd.databricks.v1+cell": {
     "cellMetadata": {
      "byteLimit": 2048000,
      "rowLimit": 10000
     },
     "inputWidgets": {},
     "nuid": "4b06a9ee-ec62-4359-a07a-bd69afa65ab8",
     "showTitle": false,
     "tableResultSettingsMap": {},
     "title": ""
    }
   },
   "outputs": [
    {
     "output_type": "stream",
     "name": "stdout",
     "output_type": "stream",
     "text": [
      "Empty table `ben_gold_employee.fact3_employee` created at /FileStore/gold/employee/ben_gold_employee/fact3_employee\n"
     ]
    }
   ],
   "source": [
    "from pyspark.sql.types import StructType, StructField, IntegerType, StringType, DateType,LongType\n",
    "\n",
    "# Define snake_case schema for the employee table\n",
    "gold2_schema = StructType([  \n",
    "    StructField(\"department_name\", StringType(), True),\n",
    "    StructField(\"avg_age\",IntegerType(),True),\n",
    "    StructField(\"at_load_date\", DateType(), True)\n",
    "])\n",
    "\n",
    "# Create empty DataFrame with schema\n",
    "df_gold3= spark.createDataFrame([], schema=gold1_schema)\n",
    "db_name = \"ben_gold_employee\"\n",
    "table_name = \"fact3_employee\"\n",
    "table_path = f\"/FileStore/gold/employee/{db_name}/{table_name}\"\n",
    "\n",
    "# Create the database if not exists\n",
    "spark.sql(f\"CREATE schema IF NOT EXISTS {db_name}\")\n",
    "\n",
    "# Create the table only if it doesn't exist\n",
    "if not spark._jsparkSession.catalog().tableExists(f\"{db_name}.{table_name}\"):\n",
    "    df_gold3.write.format(\"delta\").mode(\"overwrite\").save(table_path)\n",
    "    spark.sql(f\"\"\"\n",
    "        CREATE TABLE {db_name}.{table_name}\n",
    "        USING DELTA\n",
    "        LOCATION '{table_path}'\n",
    "    \"\"\")\n",
    "\n",
    "print(f\" Empty table `{db_name}.{table_name}` created at {table_path}\")"
   ]
  },
  {
   "cell_type": "code",
   "execution_count": 0,
   "metadata": {
    "application/vnd.databricks.v1+cell": {
     "cellMetadata": {
      "byteLimit": 2048000,
      "rowLimit": 10000
     },
     "inputWidgets": {},
     "nuid": "858112aa-d00d-4fe5-81b6-170a05a791ed",
     "showTitle": false,
     "tableResultSettingsMap": {},
     "title": ""
    }
   },
   "outputs": [],
   "source": [
    "df_age = df_age.withColumn(\"at_load_date\", current_date())\n",
    "\n",
    "df_age.write.format(\"delta\").mode(\"overwrite\").option(\"mergeSchema\", \"true\").saveAsTable(\"ben_gold_employee.fact3_employee\")\n"
   ]
  },
  {
   "cell_type": "code",
   "execution_count": 0,
   "metadata": {
    "application/vnd.databricks.v1+cell": {
     "cellMetadata": {
      "byteLimit": 2048000,
      "implicitDf": true,
      "rowLimit": 10000
     },
     "inputWidgets": {},
     "nuid": "0fbd7706-2b13-45a3-a415-e2c8a669fdc2",
     "showTitle": false,
     "tableResultSettingsMap": {},
     "title": ""
    }
   },
   "outputs": [
    {
     "output_type": "display_data",
     "data": {
      "text/html": [
       "<style scoped>\n",
       "  .table-result-container {\n",
       "    max-height: 300px;\n",
       "    overflow: auto;\n",
       "  }\n",
       "  table, th, td {\n",
       "    border: 1px solid black;\n",
       "    border-collapse: collapse;\n",
       "  }\n",
       "  th, td {\n",
       "    padding: 5px;\n",
       "  }\n",
       "  th {\n",
       "    text-align: left;\n",
       "  }\n",
       "</style><div class='table-result-container'><table class='table-result'><thead style='background-color: white'><tr><th>department_name</th><th>country_name</th><th>employee_count</th><th>at_load_date</th><th>avg_age</th></tr></thead><tbody><tr><td>Finance</td><td>null</td><td>null</td><td>2025-04-19</td><td>29.0</td></tr><tr><td>HR</td><td>null</td><td>null</td><td>2025-04-19</td><td>31.0</td></tr><tr><td>Marketing</td><td>null</td><td>null</td><td>2025-04-19</td><td>33.0</td></tr><tr><td>Sales</td><td>null</td><td>null</td><td>2025-04-19</td><td>30.0</td></tr><tr><td>Support</td><td>null</td><td>null</td><td>2025-04-19</td><td>36.0</td></tr></tbody></table></div>"
      ]
     },
     "metadata": {
      "application/vnd.databricks.v1+output": {
       "addedWidgets": {},
       "aggData": [],
       "aggError": "",
       "aggOverflow": false,
       "aggSchema": [],
       "aggSeriesLimitReached": false,
       "aggType": "",
       "arguments": {},
       "columnCustomDisplayInfos": {},
       "data": [
        [
         "Finance",
         null,
         null,
         "2025-04-19",
         29.0
        ],
        [
         "HR",
         null,
         null,
         "2025-04-19",
         31.0
        ],
        [
         "Marketing",
         null,
         null,
         "2025-04-19",
         33.0
        ],
        [
         "Sales",
         null,
         null,
         "2025-04-19",
         30.0
        ],
        [
         "Support",
         null,
         null,
         "2025-04-19",
         36.0
        ]
       ],
       "datasetInfos": [],
       "dbfsResultPath": null,
       "isJsonSchema": true,
       "metadata": {},
       "overflow": false,
       "plotOptions": {
        "customPlotOptions": {},
        "displayType": "table",
        "pivotAggregation": null,
        "pivotColumns": null,
        "xColumns": null,
        "yColumns": null
       },
       "removedWidgets": [],
       "schema": [
        {
         "metadata": "{}",
         "name": "department_name",
         "type": "\"string\""
        },
        {
         "metadata": "{}",
         "name": "country_name",
         "type": "\"string\""
        },
        {
         "metadata": "{}",
         "name": "employee_count",
         "type": "\"long\""
        },
        {
         "metadata": "{}",
         "name": "at_load_date",
         "type": "\"date\""
        },
        {
         "metadata": "{}",
         "name": "avg_age",
         "type": "\"double\""
        }
       ],
       "type": "table"
      }
     },
     "output_type": "display_data"
    }
   ],
   "source": [
    "%sql\n",
    "select * from ben_gold_employee.fact3_employee"
   ]
  }
 ],
 "metadata": {
  "application/vnd.databricks.v1+notebook": {
   "computePreferences": null,
   "dashboards": [],
   "environmentMetadata": {
    "base_environment": "",
    "environment_version": "1"
   },
   "inputWidgetPreferences": null,
   "language": "python",
   "notebookMetadata": {
    "mostRecentlyExecutedCommandWithImplicitDF": {
     "commandId": 176325115485400,
     "dataframes": [
      "_sqldf"
     ]
    },
    "pythonIndentUnit": 4
   },
   "notebookName": "employee_silver_gold",
   "widgets": {}
  }
 },
 "nbformat": 4,
 "nbformat_minor": 0
}
