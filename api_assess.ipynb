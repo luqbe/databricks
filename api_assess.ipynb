{
 "cells": [
  {
   "cell_type": "code",
   "execution_count": 0,
   "metadata": {
    "application/vnd.databricks.v1+cell": {
     "cellMetadata": {
      "byteLimit": 2048000,
      "rowLimit": 10000
     },
     "inputWidgets": {},
     "nuid": "1d47b245-aaa2-4d3a-be74-0710de634c4b",
     "showTitle": false,
     "tableResultSettingsMap": {},
     "title": ""
    }
   },
   "outputs": [
    {
     "output_type": "stream",
     "name": "stdout",
     "output_type": "stream",
     "text": [
      " Data written to `site_info.person_info` at /site_info/person_info\n"
     ]
    }
   ],
   "source": [
    "import requests\n",
    "from pyspark.sql.types import StructType, StructField, IntegerType, StringType, DateType\n",
    "from pyspark.sql import Row\n",
    "from datetime import datetime\n",
    "from pyspark.sql.functions import lit, current_date\n",
    "\n",
    "# Define DBFS save location\n",
    "db_name = \"site_info\"\n",
    "table_name = \"person_info\"\n",
    "output_path = f\"/{db_name}/{table_name}\"\n",
    "\n",
    "#  Define schema\n",
    "schema = StructType([\n",
    "    StructField(\"id\", IntegerType(), True),\n",
    "    StructField(\"email\", StringType(), True),\n",
    "    StructField(\"first_name\", StringType(), True),\n",
    "    StructField(\"last_name\", StringType(), True),\n",
    "    StructField(\"avatar\", StringType(), True),\n",
    "    StructField(\"site_address\", StringType(), True),\n",
    "    StructField(\"load_date\", DateType(), True)\n",
    "])\n",
    "\n",
    "# Fetch paginated data from API\n",
    "page = 1\n",
    "rows = []\n",
    "\n",
    "while True:\n",
    "    url = f\"https://reqres.in/api/users?page={page}\"\n",
    "    response = requests.get(url)\n",
    "    data = response.json()\n",
    "\n",
    "    # Stop if no more data\n",
    "    if not data.get(\"data\"):\n",
    "        break\n",
    "\n",
    "    # Process each user row\n",
    "    for item in data[\"data\"]:\n",
    "        site_address = item[\"email\"].split(\"@\")[-1]\n",
    "        rows.append(Row(\n",
    "            id=item[\"id\"],\n",
    "            email=item[\"email\"],\n",
    "            first_name=item[\"first_name\"],\n",
    "            last_name=item[\"last_name\"],\n",
    "            avatar=item[\"avatar\"],\n",
    "            site_address=site_address,\n",
    "            load_date=datetime.today().date()\n",
    "        ))\n",
    "\n",
    "    page += 1\n",
    "\n",
    "# Create DataFrame from collected rows\n",
    "df = spark.createDataFrame(rows, schema=schema)\n",
    "\n",
    "# Step 4: Save to DBFS in Delta format\n",
    "df.write.format(\"delta\") \\\n",
    "    .mode(\"overwrite\") \\\n",
    "    .save(output_path)\n",
    "\n",
    "# Register table in metastore\n",
    "spark.sql(f\"CREATE DATABASE IF NOT EXISTS {db_name}\")\n",
    "spark.sql(f\"\"\"\n",
    "    CREATE TABLE IF NOT EXISTS {db_name}.{table_name}\n",
    "    USING DELTA\n",
    "    LOCATION '{output_path}'\n",
    "\"\"\")\n",
    "\n",
    "print(f\" Data written to `{db_name}.{table_name}` at {output_path}\")"
   ]
  },
  {
   "cell_type": "code",
   "execution_count": 0,
   "metadata": {
    "application/vnd.databricks.v1+cell": {
     "cellMetadata": {
      "byteLimit": 2048000,
      "implicitDf": true,
      "rowLimit": 10000
     },
     "inputWidgets": {},
     "nuid": "0ee852a4-2038-4ecd-87ca-d03610db7f24",
     "showTitle": false,
     "tableResultSettingsMap": {},
     "title": ""
    }
   },
   "outputs": [
    {
     "output_type": "display_data",
     "data": {
      "text/html": [
       "<style scoped>\n",
       "  .table-result-container {\n",
       "    max-height: 300px;\n",
       "    overflow: auto;\n",
       "  }\n",
       "  table, th, td {\n",
       "    border: 1px solid black;\n",
       "    border-collapse: collapse;\n",
       "  }\n",
       "  th, td {\n",
       "    padding: 5px;\n",
       "  }\n",
       "  th {\n",
       "    text-align: left;\n",
       "  }\n",
       "</style><div class='table-result-container'><table class='table-result'><thead style='background-color: white'><tr><th>id</th><th>email</th><th>first_name</th><th>last_name</th><th>avatar</th><th>site_address</th><th>load_date</th></tr></thead><tbody><tr><td>7</td><td>michael.lawson@reqres.in</td><td>Michael</td><td>Lawson</td><td>https://reqres.in/img/faces/7-image.jpg</td><td>reqres.in</td><td>2025-04-19</td></tr><tr><td>10</td><td>byron.fields@reqres.in</td><td>Byron</td><td>Fields</td><td>https://reqres.in/img/faces/10-image.jpg</td><td>reqres.in</td><td>2025-04-19</td></tr><tr><td>11</td><td>george.edwards@reqres.in</td><td>George</td><td>Edwards</td><td>https://reqres.in/img/faces/11-image.jpg</td><td>reqres.in</td><td>2025-04-19</td></tr><tr><td>12</td><td>rachel.howell@reqres.in</td><td>Rachel</td><td>Howell</td><td>https://reqres.in/img/faces/12-image.jpg</td><td>reqres.in</td><td>2025-04-19</td></tr><tr><td>8</td><td>lindsay.ferguson@reqres.in</td><td>Lindsay</td><td>Ferguson</td><td>https://reqres.in/img/faces/8-image.jpg</td><td>reqres.in</td><td>2025-04-19</td></tr><tr><td>9</td><td>tobias.funke@reqres.in</td><td>Tobias</td><td>Funke</td><td>https://reqres.in/img/faces/9-image.jpg</td><td>reqres.in</td><td>2025-04-19</td></tr><tr><td>1</td><td>george.bluth@reqres.in</td><td>George</td><td>Bluth</td><td>https://reqres.in/img/faces/1-image.jpg</td><td>reqres.in</td><td>2025-04-19</td></tr><tr><td>5</td><td>charles.morris@reqres.in</td><td>Charles</td><td>Morris</td><td>https://reqres.in/img/faces/5-image.jpg</td><td>reqres.in</td><td>2025-04-19</td></tr><tr><td>6</td><td>tracey.ramos@reqres.in</td><td>Tracey</td><td>Ramos</td><td>https://reqres.in/img/faces/6-image.jpg</td><td>reqres.in</td><td>2025-04-19</td></tr><tr><td>2</td><td>janet.weaver@reqres.in</td><td>Janet</td><td>Weaver</td><td>https://reqres.in/img/faces/2-image.jpg</td><td>reqres.in</td><td>2025-04-19</td></tr><tr><td>3</td><td>emma.wong@reqres.in</td><td>Emma</td><td>Wong</td><td>https://reqres.in/img/faces/3-image.jpg</td><td>reqres.in</td><td>2025-04-19</td></tr><tr><td>4</td><td>eve.holt@reqres.in</td><td>Eve</td><td>Holt</td><td>https://reqres.in/img/faces/4-image.jpg</td><td>reqres.in</td><td>2025-04-19</td></tr></tbody></table></div>"
      ]
     },
     "metadata": {
      "application/vnd.databricks.v1+output": {
       "addedWidgets": {},
       "aggData": [],
       "aggError": "",
       "aggOverflow": false,
       "aggSchema": [],
       "aggSeriesLimitReached": false,
       "aggType": "",
       "arguments": {},
       "columnCustomDisplayInfos": {},
       "data": [
        [
         7,
         "michael.lawson@reqres.in",
         "Michael",
         "Lawson",
         "https://reqres.in/img/faces/7-image.jpg",
         "reqres.in",
         "2025-04-19"
        ],
        [
         10,
         "byron.fields@reqres.in",
         "Byron",
         "Fields",
         "https://reqres.in/img/faces/10-image.jpg",
         "reqres.in",
         "2025-04-19"
        ],
        [
         11,
         "george.edwards@reqres.in",
         "George",
         "Edwards",
         "https://reqres.in/img/faces/11-image.jpg",
         "reqres.in",
         "2025-04-19"
        ],
        [
         12,
         "rachel.howell@reqres.in",
         "Rachel",
         "Howell",
         "https://reqres.in/img/faces/12-image.jpg",
         "reqres.in",
         "2025-04-19"
        ],
        [
         8,
         "lindsay.ferguson@reqres.in",
         "Lindsay",
         "Ferguson",
         "https://reqres.in/img/faces/8-image.jpg",
         "reqres.in",
         "2025-04-19"
        ],
        [
         9,
         "tobias.funke@reqres.in",
         "Tobias",
         "Funke",
         "https://reqres.in/img/faces/9-image.jpg",
         "reqres.in",
         "2025-04-19"
        ],
        [
         1,
         "george.bluth@reqres.in",
         "George",
         "Bluth",
         "https://reqres.in/img/faces/1-image.jpg",
         "reqres.in",
         "2025-04-19"
        ],
        [
         5,
         "charles.morris@reqres.in",
         "Charles",
         "Morris",
         "https://reqres.in/img/faces/5-image.jpg",
         "reqres.in",
         "2025-04-19"
        ],
        [
         6,
         "tracey.ramos@reqres.in",
         "Tracey",
         "Ramos",
         "https://reqres.in/img/faces/6-image.jpg",
         "reqres.in",
         "2025-04-19"
        ],
        [
         2,
         "janet.weaver@reqres.in",
         "Janet",
         "Weaver",
         "https://reqres.in/img/faces/2-image.jpg",
         "reqres.in",
         "2025-04-19"
        ],
        [
         3,
         "emma.wong@reqres.in",
         "Emma",
         "Wong",
         "https://reqres.in/img/faces/3-image.jpg",
         "reqres.in",
         "2025-04-19"
        ],
        [
         4,
         "eve.holt@reqres.in",
         "Eve",
         "Holt",
         "https://reqres.in/img/faces/4-image.jpg",
         "reqres.in",
         "2025-04-19"
        ]
       ],
       "datasetInfos": [],
       "dbfsResultPath": null,
       "isJsonSchema": true,
       "metadata": {},
       "overflow": false,
       "plotOptions": {
        "customPlotOptions": {},
        "displayType": "table",
        "pivotAggregation": null,
        "pivotColumns": null,
        "xColumns": null,
        "yColumns": null
       },
       "removedWidgets": [],
       "schema": [
        {
         "metadata": "{}",
         "name": "id",
         "type": "\"integer\""
        },
        {
         "metadata": "{}",
         "name": "email",
         "type": "\"string\""
        },
        {
         "metadata": "{}",
         "name": "first_name",
         "type": "\"string\""
        },
        {
         "metadata": "{}",
         "name": "last_name",
         "type": "\"string\""
        },
        {
         "metadata": "{}",
         "name": "avatar",
         "type": "\"string\""
        },
        {
         "metadata": "{}",
         "name": "site_address",
         "type": "\"string\""
        },
        {
         "metadata": "{}",
         "name": "load_date",
         "type": "\"date\""
        }
       ],
       "type": "table"
      }
     },
     "output_type": "display_data"
    }
   ],
   "source": [
    "%sql\n",
    "select * from site_info.person_info"
   ]
  }
 ],
 "metadata": {
  "application/vnd.databricks.v1+notebook": {
   "computePreferences": null,
   "dashboards": [],
   "environmentMetadata": {
    "base_environment": "",
    "environment_version": "1"
   },
   "inputWidgetPreferences": null,
   "language": "python",
   "notebookMetadata": {
    "mostRecentlyExecutedCommandWithImplicitDF": {
     "commandId": 2094951034974291,
     "dataframes": [
      "_sqldf"
     ]
    },
    "pythonIndentUnit": 4
   },
   "notebookName": "api_assess",
   "widgets": {}
  }
 },
 "nbformat": 4,
 "nbformat_minor": 0
}
